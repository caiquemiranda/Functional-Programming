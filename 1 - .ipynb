{
 "cells": [
  {
   "cell_type": "code",
   "execution_count": null,
   "metadata": {},
   "outputs": [],
   "source": [
    "# Introdução à Programação Funcional:\n",
    "# Exemplo: Uso de função pura\n",
    "def add(a, b):\n",
    "    return a + b\n",
    "\n",
    "# Explicação: Uma função pura (add) que retorna a soma de dois números sem efeitos colaterais."
   ]
  },
  {
   "cell_type": "code",
   "execution_count": null,
   "metadata": {},
   "outputs": [],
   "source": [
    "# Identificação de Paradigmas:\n",
    "# Imperativo\n",
    "lista = [1, 2, 3]\n",
    "for i in range(len(lista)):\n",
    "    lista[i] *= 2\n",
    "# Funcional\n",
    "lista = [1, 2, 3]\n",
    "lista_dobrada = list(map(lambda x: x * 2, lista))\n",
    "\n",
    "# Explicação: A primeira parte modifica a lista in-place, enquanto a segunda cria uma nova lista, mantendo a original imutável.\n",
    "\n",
    "# "
   ]
  },
  {
   "cell_type": "code",
   "execution_count": null,
   "metadata": {},
   "outputs": [],
   "source": [
    "# Subdivisão do Paradigma Procedural:\n",
    "# Procedural\n",
    "from functools import reduce\n",
    "\n",
    "\n",
    "def somar_lista(lista):\n",
    "    total = 0\n",
    "    for i in lista:\n",
    "        total += i\n",
    "    return total\n",
    "\n",
    "\n",
    "# Funcional\n",
    "total = reduce(lambda a, b: a + b, lista)\n",
    "\n",
    "# Explicação: O exemplo procedural usa um loop, enquanto o funcional usa reduce para acumular um total."
   ]
  },
  {
   "cell_type": "code",
   "execution_count": null,
   "metadata": {},
   "outputs": [],
   "source": [
    "# Uso do Paradigma Funcional:\n",
    "quadrados = list(map(lambda x: x**2, lista))\n",
    "\n",
    "# Explicação: Uso de map com uma expressão lambda para elevar ao quadrado cada elemento da lista."
   ]
  },
  {
   "cell_type": "code",
   "execution_count": null,
   "metadata": {},
   "outputs": [],
   "source": [
    "# Criação de Objetos:\n",
    "from collections import namedtuple\n",
    "Ponto = namedtuple('Ponto', ['x', 'y'])\n",
    "ponto = Ponto(1, 2)\n",
    "\n",
    "# Explicação: Criação de um objeto imutável Ponto usando namedtuple."
   ]
  },
  {
   "cell_type": "code",
   "execution_count": null,
   "metadata": {},
   "outputs": [],
   "source": [
    "# Abordagem Híbrida Funcional:\n",
    "class Circulo:\n",
    "    def __init__(self, raio):\n",
    "        self.raio = raio\n",
    "\n",
    "    def area(self):\n",
    "        return 3.14 * self.raio ** 2\n",
    "\n",
    "# Explicação: Uma classe Circulo com um método que calcula a área, demonstrando um estilo híbrido"
   ]
  },
  {
   "cell_type": "code",
   "execution_count": null,
   "metadata": {},
   "outputs": [],
   "source": [
    "# Exemplo Clássico de Programação Funcional:\n",
    "def fatorial(n):\n",
    "    return 1 if n == 0 else n * fatorial(n-1)\n",
    "\n",
    "\n",
    "# Explicação: Implementação recursiva de uma função de fatorial."
   ]
  },
  {
   "cell_type": "code",
   "execution_count": null,
   "metadata": {},
   "outputs": [],
   "source": [
    "# Análise Exploratória de Dados (EDA):\n",
    "import pandas as pd\n",
    "\n",
    "df = pd.DataFrame({'a': [1, 2, 3], \n",
    "                   'b': [4, 5, 6]})\n",
    "\n",
    "df['a'] = df['a'].apply(lambda x: x * 2)\n",
    "\n",
    "# Explicação: Uso do método apply para dobrar os valores na coluna 'a' de um DataFrame do pandas."
   ]
  }
 ],
 "metadata": {
  "language_info": {
   "name": "python"
  }
 },
 "nbformat": 4,
 "nbformat_minor": 2
}
